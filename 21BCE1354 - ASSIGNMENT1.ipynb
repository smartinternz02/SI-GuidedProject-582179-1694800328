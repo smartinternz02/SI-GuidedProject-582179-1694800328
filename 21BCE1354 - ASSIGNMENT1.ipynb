{
  "nbformat": 4,
  "nbformat_minor": 0,
  "metadata": {
    "colab": {
      "provenance": []
    },
    "kernelspec": {
      "name": "python3",
      "display_name": "Python 3"
    },
    "language_info": {
      "name": "python"
    }
  },
  "cells": [
    {
      "cell_type": "code",
      "execution_count": 1,
      "metadata": {
        "id": "ekIgfqd-QQbX"
      },
      "outputs": [],
      "source": [
        "import pandas as pd"
      ]
    },
    {
      "cell_type": "code",
      "source": [
        "import numpy as np"
      ],
      "metadata": {
        "id": "Mxt63g6sREk6"
      },
      "execution_count": 2,
      "outputs": []
    },
    {
      "cell_type": "code",
      "source": [
        "np.random.seed(24)\n",
        "\n",
        "\n",
        "data = {\n",
        "    'Feature1': np.random.rand(4),\n",
        "    'Feature2': np.random.rand(4),\n",
        "    'Feature3': np.random.rand(4),\n",
        "    'Feature4': np.random.rand(4)\n",
        "}\n",
        "\n",
        "df = pd.DataFrame(data)\n",
        "\n",
        "print(df)"
      ],
      "metadata": {
        "colab": {
          "base_uri": "https://localhost:8080/"
        },
        "id": "2zd-PU3hRI4_",
        "outputId": "8ba4961b-7db1-4d9b-f646-35452c657326"
      },
      "execution_count": 6,
      "outputs": [
        {
          "output_type": "stream",
          "name": "stdout",
          "text": [
            "   Feature1  Feature2  Feature3  Feature4\n",
            "0  0.960017  0.361056  0.136545  0.709652\n",
            "1  0.699512  0.739841  0.383980  0.900142\n",
            "2  0.999867  0.996456  0.320519  0.534115\n",
            "3  0.220067  0.316347  0.366415  0.247294\n"
          ]
        }
      ]
    },
    {
      "cell_type": "code",
      "source": [
        "df.columns = ['Random value 1', 'Random value 2', 'Random value 3', 'Random value 4']\n",
        "print(df)"
      ],
      "metadata": {
        "colab": {
          "base_uri": "https://localhost:8080/"
        },
        "id": "nZjHRsbsSITy",
        "outputId": "8a6d8758-fffa-479f-a512-d0e824482a92"
      },
      "execution_count": 7,
      "outputs": [
        {
          "output_type": "stream",
          "name": "stdout",
          "text": [
            "   Random value 1  Random value 2  Random value 3  Random value 4\n",
            "0        0.960017        0.361056        0.136545        0.709652\n",
            "1        0.699512        0.739841        0.383980        0.900142\n",
            "2        0.999867        0.996456        0.320519        0.534115\n",
            "3        0.220067        0.316347        0.366415        0.247294\n"
          ]
        }
      ]
    },
    {
      "cell_type": "code",
      "source": [
        "descriptive_stats = df.describe()\n",
        "print(descriptive_stats)"
      ],
      "metadata": {
        "colab": {
          "base_uri": "https://localhost:8080/"
        },
        "id": "1YvheWnsSSD2",
        "outputId": "e3db923a-c023-4d34-99b2-ff400a1af078"
      },
      "execution_count": 8,
      "outputs": [
        {
          "output_type": "stream",
          "name": "stdout",
          "text": [
            "       Random value 1  Random value 2  Random value 3  Random value 4\n",
            "count        4.000000        4.000000        4.000000        4.000000\n",
            "mean         0.719866        0.603425        0.301865        0.597801\n",
            "std          0.358834        0.323645        0.113414        0.277388\n",
            "min          0.220067        0.316347        0.136545        0.247294\n",
            "25%          0.579651        0.349879        0.274526        0.462410\n",
            "50%          0.829765        0.550449        0.343467        0.621884\n",
            "75%          0.969980        0.803995        0.370806        0.757274\n",
            "max          0.999867        0.996456        0.383980        0.900142\n"
          ]
        }
      ]
    },
    {
      "cell_type": "code",
      "source": [
        "null_values = df.isnull().sum()\n",
        "data_types = df.dtypes\n",
        "\n",
        "print(\"Null Values:\")\n",
        "print(null_values)\n",
        "\n",
        "print(\"\\nData Types:\")\n",
        "print(data_types)"
      ],
      "metadata": {
        "colab": {
          "base_uri": "https://localhost:8080/"
        },
        "id": "ImEHBzZiS2BZ",
        "outputId": "3c449d85-eb50-41c7-b141-93894974011b"
      },
      "execution_count": 9,
      "outputs": [
        {
          "output_type": "stream",
          "name": "stdout",
          "text": [
            "Null Values:\n",
            "Random value 1    0\n",
            "Random value 2    0\n",
            "Random value 3    0\n",
            "Random value 4    0\n",
            "dtype: int64\n",
            "\n",
            "Data Types:\n",
            "Random value 1    float64\n",
            "Random value 2    float64\n",
            "Random value 3    float64\n",
            "Random value 4    float64\n",
            "dtype: object\n"
          ]
        }
      ]
    },
    {
      "cell_type": "code",
      "source": [
        "columns = df.loc[:, ['Random value 2', 'Random value 3']]\n",
        "print(columns)"
      ],
      "metadata": {
        "colab": {
          "base_uri": "https://localhost:8080/"
        },
        "id": "5f2M2vCDS_Y_",
        "outputId": "0825285d-b718-421d-8d1a-b44b385861fb"
      },
      "execution_count": 10,
      "outputs": [
        {
          "output_type": "stream",
          "name": "stdout",
          "text": [
            "   Random value 2  Random value 3\n",
            "0        0.361056        0.136545\n",
            "1        0.739841        0.383980\n",
            "2        0.996456        0.320519\n",
            "3        0.316347        0.366415\n"
          ]
        }
      ]
    },
    {
      "cell_type": "code",
      "source": [
        "indexcolumns = df.iloc[:, [1, 2]]\n",
        "print(indexcolumns)"
      ],
      "metadata": {
        "colab": {
          "base_uri": "https://localhost:8080/"
        },
        "id": "66trUO5WTHVJ",
        "outputId": "fc9f1eac-89f0-4513-a68c-c834347cbd16"
      },
      "execution_count": 11,
      "outputs": [
        {
          "output_type": "stream",
          "name": "stdout",
          "text": [
            "   Random value 2  Random value 3\n",
            "0        0.361056        0.136545\n",
            "1        0.739841        0.383980\n",
            "2        0.996456        0.320519\n",
            "3        0.316347        0.366415\n"
          ]
        }
      ]
    }
  ]
}